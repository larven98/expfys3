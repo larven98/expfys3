{
 "cells": [
  {
   "cell_type": "code",
   "execution_count": 1,
   "metadata": {},
   "outputs": [],
   "source": [
    "import numpy as np\n",
    "import pandas as pd\n",
    "import matplotlib.pyplot as plt"
   ]
  },
  {
   "cell_type": "code",
   "execution_count": 3,
   "metadata": {},
   "outputs": [],
   "source": [
    "raman_df = pd.read_csv('operando_blue_laser_15x10_25p_3_cycles.txt',header=None)\n",
    "raman_df = raman_df[0].str.split(expand=True).astype(float)\n",
    "raman_df.iloc[0, 1:] = raman_df.iloc[0, :-1].values\n",
    "raman_df.iloc[0, 0] = None \n",
    "raman_df.rename(columns={0:'timestamp'},inplace=True)\n",
    "\n",
    "raman_df_notime = raman_df.drop(labels=['timestamp'],axis=1).transpose()\n",
    "raman_df_notime.rename(columns={0:'wave number'},inplace=True)\n",
    "timestamps = raman_df['timestamp'][1:]\n",
    "\n",
    "raman_df_just_raman = raman_df_notime.drop(labels='wave number',axis=1)\n",
    "raman_df_just_raman = raman_df_just_raman.rename(columns=timestamps)"
   ]
  },
  {
   "cell_type": "code",
   "execution_count": 4,
   "metadata": {},
   "outputs": [],
   "source": [
    "import background_red \n",
    "\n",
    "mean_raman = (raman_df_notime.sum(axis=1) - raman_df_notime['wave number']) / raman_df_notime.shape[1]"
   ]
  },
  {
   "cell_type": "code",
   "execution_count": 5,
   "metadata": {},
   "outputs": [],
   "source": [
    "corr1 = background_red.backcor(np.array(raman_df_notime['wave number']),np.array(raman_df_notime[1]),ord=3,s=1e-3,fct='sh')\n",
    "corr2 = background_red.backcor(np.array(raman_df_notime['wave number']),np.array(raman_df_notime[1]),ord=3,s=1e-3,fct='ah')\n",
    "corr3 = background_red.backcor(np.array(raman_df_notime['wave number']),np.array(raman_df_notime[1]),ord=3,s=1e-3,fct='stq')\n",
    "corr4 = background_red.backcor(np.array(raman_df_notime['wave number']),np.array(raman_df_notime[1]),ord=3,s=1e-3,fct='atq')\n",
    "\n",
    "corrected1 = raman_df_notime[1] - corr1[0]\n",
    "corrected2 = raman_df_notime[1] - corr2[0] # bäst? \n",
    "corrected3 = raman_df_notime[1] - corr3[0] # dålig\n",
    "corrected4 = raman_df_notime[1] - corr4[0]"
   ]
  },
  {
   "cell_type": "code",
   "execution_count": 6,
   "metadata": {},
   "outputs": [],
   "source": [
    "corr1 = background_red.backcor(np.array(raman_df_notime['wave number']),np.array(raman_df_notime[530]),ord=3,s=1e-5,fct='sh')\n",
    "corr2 = background_red.backcor(np.array(raman_df_notime['wave number']),np.array(raman_df_notime[530]),ord=3,s=1e-5,fct='ah')\n",
    "corr3 = background_red.backcor(np.array(raman_df_notime['wave number']),np.array(raman_df_notime[530]),ord=3,s=1e-5,fct='stq')\n",
    "corr4 = background_red.backcor(np.array(raman_df_notime['wave number']),np.array(raman_df_notime[530]),ord=3,s=1e-5,fct='atq')\n",
    "\n",
    "corrected1 = raman_df_notime[1] - corr1[0]\n",
    "corrected2 = raman_df_notime[1] - corr2[0] # bäst? \n",
    "corrected3 = raman_df_notime[1] - corr3[0] # dålig\n",
    "corrected4 = raman_df_notime[1] - corr4[0]"
   ]
  },
  {
   "cell_type": "code",
   "execution_count": null,
   "metadata": {},
   "outputs": [],
   "source": []
  }
 ],
 "metadata": {
  "kernelspec": {
   "display_name": "base",
   "language": "python",
   "name": "python3"
  },
  "language_info": {
   "codemirror_mode": {
    "name": "ipython",
    "version": 3
   },
   "file_extension": ".py",
   "mimetype": "text/x-python",
   "name": "python",
   "nbconvert_exporter": "python",
   "pygments_lexer": "ipython3",
   "version": "3.11.4"
  }
 },
 "nbformat": 4,
 "nbformat_minor": 2
}
